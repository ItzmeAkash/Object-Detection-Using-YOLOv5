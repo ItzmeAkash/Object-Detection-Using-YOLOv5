{
 "cells": [
  {
   "cell_type": "code",
   "execution_count": 2,
   "metadata": {},
   "outputs": [],
   "source": [
    "import gdown"
   ]
  },
  {
   "cell_type": "code",
   "execution_count": 4,
   "metadata": {},
   "outputs": [],
   "source": [
    "url = \"https://drive.google.com/file/d/1ktbSiEpbbwVgCTgMlV9CoZtlYtY3yjjz/view?usp=sharing\"\n"
   ]
  },
  {
   "cell_type": "code",
   "execution_count": 7,
   "metadata": {},
   "outputs": [
    {
     "name": "stdout",
     "output_type": "stream",
     "text": [
      "['https:', '', 'drive.google.com', 'file', 'd', '1ktbSiEpbbwVgCTgMlV9CoZtlYtY3yjjz', 'view?usp=sharing']\n"
     ]
    }
   ],
   "source": [
    "file_id = url.split(\"/\")\n",
    "print(file_id)"
   ]
  },
  {
   "cell_type": "code",
   "execution_count": 8,
   "metadata": {},
   "outputs": [
    {
     "name": "stdout",
     "output_type": "stream",
     "text": [
      "1ktbSiEpbbwVgCTgMlV9CoZtlYtY3yjjz\n"
     ]
    }
   ],
   "source": [
    "file_id = url.split(\"/\")[-2]\n",
    "print(file_id)"
   ]
  },
  {
   "cell_type": "code",
   "execution_count": 12,
   "metadata": {},
   "outputs": [
    {
     "name": "stderr",
     "output_type": "stream",
     "text": [
      "Downloading...\n",
      "From: https://drive.google.com/uc?/export=download&id=1ktbSiEpbbwVgCTgMlV9CoZtlYtY3yjjz\n",
      "To: c:\\Users\\91790\\Desktop\\EndToEnd Project\\Object-Detection-Using-YOLOv5\\data\\waste_data.zip\n",
      "100%|██████████| 117k/117k [00:00<00:00, 2.33MB/s]\n"
     ]
    },
    {
     "data": {
      "text/plain": [
       "'data/waste_data.zip'"
      ]
     },
     "execution_count": 12,
     "metadata": {},
     "output_type": "execute_result"
    }
   ],
   "source": [
    "#download string\n",
    "prefix = 'https://drive.google.com/uc?/export=download&id='\n",
    "\n",
    "\n",
    "gdown.download(prefix+file_id,\"data/waste_data.zip\")"
   ]
  },
  {
   "cell_type": "code",
   "execution_count": 10,
   "metadata": {},
   "outputs": [
    {
     "data": {
      "text/plain": [
       "'c:\\\\Users\\\\91790\\\\Desktop\\\\EndToEnd Project\\\\Object-Detection-Using-YOLOv5\\\\research'"
      ]
     },
     "execution_count": 10,
     "metadata": {},
     "output_type": "execute_result"
    }
   ],
   "source": [
    "%pwd"
   ]
  },
  {
   "cell_type": "code",
   "execution_count": 11,
   "metadata": {},
   "outputs": [],
   "source": [
    "import os\n",
    "os.chdir(\"../\")"
   ]
  },
  {
   "cell_type": "code",
   "execution_count": null,
   "metadata": {},
   "outputs": [],
   "source": []
  },
  {
   "cell_type": "code",
   "execution_count": null,
   "metadata": {},
   "outputs": [],
   "source": []
  }
 ],
 "metadata": {
  "kernelspec": {
   "display_name": "waste",
   "language": "python",
   "name": "python3"
  },
  "language_info": {
   "codemirror_mode": {
    "name": "ipython",
    "version": 3
   },
   "file_extension": ".py",
   "mimetype": "text/x-python",
   "name": "python",
   "nbconvert_exporter": "python",
   "pygments_lexer": "ipython3",
   "version": "3.11.4"
  },
  "orig_nbformat": 4
 },
 "nbformat": 4,
 "nbformat_minor": 2
}
